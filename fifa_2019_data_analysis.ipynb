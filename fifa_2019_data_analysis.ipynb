{
 "cells": [
  {
   "cell_type": "code",
   "execution_count": 1,
   "metadata": {},
   "outputs": [],
   "source": [
    "import pandas as pd, matplotlib.pyplot as plt , seaborn as sns"
   ]
  },
  {
   "cell_type": "code",
   "execution_count": 4,
   "metadata": {},
   "outputs": [],
   "source": [
    "fifa = pd.read_csv(\"fifa20.csv\")"
   ]
  },
  {
   "cell_type": "code",
   "execution_count": 5,
   "metadata": {},
   "outputs": [
    {
     "data": {
      "text/html": [
       "<div>\n",
       "<style scoped>\n",
       "    .dataframe tbody tr th:only-of-type {\n",
       "        vertical-align: middle;\n",
       "    }\n",
       "\n",
       "    .dataframe tbody tr th {\n",
       "        vertical-align: top;\n",
       "    }\n",
       "\n",
       "    .dataframe thead th {\n",
       "        text-align: right;\n",
       "    }\n",
       "</style>\n",
       "<table border=\"1\" class=\"dataframe\">\n",
       "  <thead>\n",
       "    <tr style=\"text-align: right;\">\n",
       "      <th></th>\n",
       "      <th>sofifa_id</th>\n",
       "      <th>player_url</th>\n",
       "      <th>short_name</th>\n",
       "      <th>long_name</th>\n",
       "      <th>age</th>\n",
       "      <th>dob</th>\n",
       "      <th>height_cm</th>\n",
       "      <th>weight_kg</th>\n",
       "      <th>nationality</th>\n",
       "      <th>club</th>\n",
       "      <th>...</th>\n",
       "      <th>lwb</th>\n",
       "      <th>ldm</th>\n",
       "      <th>cdm</th>\n",
       "      <th>rdm</th>\n",
       "      <th>rwb</th>\n",
       "      <th>lb</th>\n",
       "      <th>lcb</th>\n",
       "      <th>cb</th>\n",
       "      <th>rcb</th>\n",
       "      <th>rb</th>\n",
       "    </tr>\n",
       "  </thead>\n",
       "  <tbody>\n",
       "    <tr>\n",
       "      <th>0</th>\n",
       "      <td>158023</td>\n",
       "      <td>https://sofifa.com/player/158023/lionel-messi/...</td>\n",
       "      <td>L. Messi</td>\n",
       "      <td>Lionel Andrés Messi Cuccittini</td>\n",
       "      <td>32</td>\n",
       "      <td>1987-06-24</td>\n",
       "      <td>170</td>\n",
       "      <td>72</td>\n",
       "      <td>Argentina</td>\n",
       "      <td>FC Barcelona</td>\n",
       "      <td>...</td>\n",
       "      <td>68+2</td>\n",
       "      <td>66+2</td>\n",
       "      <td>66+2</td>\n",
       "      <td>66+2</td>\n",
       "      <td>68+2</td>\n",
       "      <td>63+2</td>\n",
       "      <td>52+2</td>\n",
       "      <td>52+2</td>\n",
       "      <td>52+2</td>\n",
       "      <td>63+2</td>\n",
       "    </tr>\n",
       "    <tr>\n",
       "      <th>1</th>\n",
       "      <td>20801</td>\n",
       "      <td>https://sofifa.com/player/20801/c-ronaldo-dos-...</td>\n",
       "      <td>Cristiano Ronaldo</td>\n",
       "      <td>Cristiano Ronaldo dos Santos Aveiro</td>\n",
       "      <td>34</td>\n",
       "      <td>1985-02-05</td>\n",
       "      <td>187</td>\n",
       "      <td>83</td>\n",
       "      <td>Portugal</td>\n",
       "      <td>Juventus</td>\n",
       "      <td>...</td>\n",
       "      <td>65+3</td>\n",
       "      <td>61+3</td>\n",
       "      <td>61+3</td>\n",
       "      <td>61+3</td>\n",
       "      <td>65+3</td>\n",
       "      <td>61+3</td>\n",
       "      <td>53+3</td>\n",
       "      <td>53+3</td>\n",
       "      <td>53+3</td>\n",
       "      <td>61+3</td>\n",
       "    </tr>\n",
       "    <tr>\n",
       "      <th>2</th>\n",
       "      <td>190871</td>\n",
       "      <td>https://sofifa.com/player/190871/neymar-da-sil...</td>\n",
       "      <td>Neymar Jr</td>\n",
       "      <td>Neymar da Silva Santos Junior</td>\n",
       "      <td>27</td>\n",
       "      <td>1992-02-05</td>\n",
       "      <td>175</td>\n",
       "      <td>68</td>\n",
       "      <td>Brazil</td>\n",
       "      <td>Paris Saint-Germain</td>\n",
       "      <td>...</td>\n",
       "      <td>66+3</td>\n",
       "      <td>61+3</td>\n",
       "      <td>61+3</td>\n",
       "      <td>61+3</td>\n",
       "      <td>66+3</td>\n",
       "      <td>61+3</td>\n",
       "      <td>46+3</td>\n",
       "      <td>46+3</td>\n",
       "      <td>46+3</td>\n",
       "      <td>61+3</td>\n",
       "    </tr>\n",
       "    <tr>\n",
       "      <th>3</th>\n",
       "      <td>200389</td>\n",
       "      <td>https://sofifa.com/player/200389/jan-oblak/20/...</td>\n",
       "      <td>J. Oblak</td>\n",
       "      <td>Jan Oblak</td>\n",
       "      <td>26</td>\n",
       "      <td>1993-01-07</td>\n",
       "      <td>188</td>\n",
       "      <td>87</td>\n",
       "      <td>Slovenia</td>\n",
       "      <td>Atlético Madrid</td>\n",
       "      <td>...</td>\n",
       "      <td>NaN</td>\n",
       "      <td>NaN</td>\n",
       "      <td>NaN</td>\n",
       "      <td>NaN</td>\n",
       "      <td>NaN</td>\n",
       "      <td>NaN</td>\n",
       "      <td>NaN</td>\n",
       "      <td>NaN</td>\n",
       "      <td>NaN</td>\n",
       "      <td>NaN</td>\n",
       "    </tr>\n",
       "    <tr>\n",
       "      <th>4</th>\n",
       "      <td>183277</td>\n",
       "      <td>https://sofifa.com/player/183277/eden-hazard/2...</td>\n",
       "      <td>E. Hazard</td>\n",
       "      <td>Eden Hazard</td>\n",
       "      <td>28</td>\n",
       "      <td>1991-01-07</td>\n",
       "      <td>175</td>\n",
       "      <td>74</td>\n",
       "      <td>Belgium</td>\n",
       "      <td>Real Madrid</td>\n",
       "      <td>...</td>\n",
       "      <td>66+3</td>\n",
       "      <td>63+3</td>\n",
       "      <td>63+3</td>\n",
       "      <td>63+3</td>\n",
       "      <td>66+3</td>\n",
       "      <td>61+3</td>\n",
       "      <td>49+3</td>\n",
       "      <td>49+3</td>\n",
       "      <td>49+3</td>\n",
       "      <td>61+3</td>\n",
       "    </tr>\n",
       "  </tbody>\n",
       "</table>\n",
       "<p>5 rows × 104 columns</p>\n",
       "</div>"
      ],
      "text/plain": [
       "   sofifa_id                                         player_url  \\\n",
       "0     158023  https://sofifa.com/player/158023/lionel-messi/...   \n",
       "1      20801  https://sofifa.com/player/20801/c-ronaldo-dos-...   \n",
       "2     190871  https://sofifa.com/player/190871/neymar-da-sil...   \n",
       "3     200389  https://sofifa.com/player/200389/jan-oblak/20/...   \n",
       "4     183277  https://sofifa.com/player/183277/eden-hazard/2...   \n",
       "\n",
       "          short_name                            long_name  age         dob  \\\n",
       "0           L. Messi       Lionel Andrés Messi Cuccittini   32  1987-06-24   \n",
       "1  Cristiano Ronaldo  Cristiano Ronaldo dos Santos Aveiro   34  1985-02-05   \n",
       "2          Neymar Jr        Neymar da Silva Santos Junior   27  1992-02-05   \n",
       "3           J. Oblak                            Jan Oblak   26  1993-01-07   \n",
       "4          E. Hazard                          Eden Hazard   28  1991-01-07   \n",
       "\n",
       "   height_cm  weight_kg nationality                 club  ...   lwb   ldm  \\\n",
       "0        170         72   Argentina         FC Barcelona  ...  68+2  66+2   \n",
       "1        187         83    Portugal             Juventus  ...  65+3  61+3   \n",
       "2        175         68      Brazil  Paris Saint-Germain  ...  66+3  61+3   \n",
       "3        188         87    Slovenia      Atlético Madrid  ...   NaN   NaN   \n",
       "4        175         74     Belgium          Real Madrid  ...  66+3  63+3   \n",
       "\n",
       "    cdm   rdm   rwb    lb   lcb    cb   rcb    rb  \n",
       "0  66+2  66+2  68+2  63+2  52+2  52+2  52+2  63+2  \n",
       "1  61+3  61+3  65+3  61+3  53+3  53+3  53+3  61+3  \n",
       "2  61+3  61+3  66+3  61+3  46+3  46+3  46+3  61+3  \n",
       "3   NaN   NaN   NaN   NaN   NaN   NaN   NaN   NaN  \n",
       "4  63+3  63+3  66+3  61+3  49+3  49+3  49+3  61+3  \n",
       "\n",
       "[5 rows x 104 columns]"
      ]
     },
     "execution_count": 5,
     "metadata": {},
     "output_type": "execute_result"
    }
   ],
   "source": [
    "fifa.head()"
   ]
  },
  {
   "cell_type": "code",
   "execution_count": 6,
   "metadata": {},
   "outputs": [
    {
     "data": {
      "text/html": [
       "<div>\n",
       "<style scoped>\n",
       "    .dataframe tbody tr th:only-of-type {\n",
       "        vertical-align: middle;\n",
       "    }\n",
       "\n",
       "    .dataframe tbody tr th {\n",
       "        vertical-align: top;\n",
       "    }\n",
       "\n",
       "    .dataframe thead th {\n",
       "        text-align: right;\n",
       "    }\n",
       "</style>\n",
       "<table border=\"1\" class=\"dataframe\">\n",
       "  <thead>\n",
       "    <tr style=\"text-align: right;\">\n",
       "      <th></th>\n",
       "      <th>sofifa_id</th>\n",
       "      <th>player_url</th>\n",
       "      <th>short_name</th>\n",
       "      <th>long_name</th>\n",
       "      <th>age</th>\n",
       "      <th>dob</th>\n",
       "      <th>height_cm</th>\n",
       "      <th>weight_kg</th>\n",
       "      <th>nationality</th>\n",
       "      <th>club</th>\n",
       "      <th>...</th>\n",
       "      <th>lwb</th>\n",
       "      <th>ldm</th>\n",
       "      <th>cdm</th>\n",
       "      <th>rdm</th>\n",
       "      <th>rwb</th>\n",
       "      <th>lb</th>\n",
       "      <th>lcb</th>\n",
       "      <th>cb</th>\n",
       "      <th>rcb</th>\n",
       "      <th>rb</th>\n",
       "    </tr>\n",
       "  </thead>\n",
       "  <tbody>\n",
       "    <tr>\n",
       "      <th>7103</th>\n",
       "      <td>220035</td>\n",
       "      <td>https://sofifa.com/player/220035/abdul-ajagun/...</td>\n",
       "      <td>A. Ajagun</td>\n",
       "      <td>Abdul Ajagun</td>\n",
       "      <td>26</td>\n",
       "      <td>1993-02-10</td>\n",
       "      <td>168</td>\n",
       "      <td>65</td>\n",
       "      <td>Nigeria</td>\n",
       "      <td>KV Kortrijk</td>\n",
       "      <td>...</td>\n",
       "      <td>49+2</td>\n",
       "      <td>45+2</td>\n",
       "      <td>45+2</td>\n",
       "      <td>45+2</td>\n",
       "      <td>49+2</td>\n",
       "      <td>45+2</td>\n",
       "      <td>37+2</td>\n",
       "      <td>37+2</td>\n",
       "      <td>37+2</td>\n",
       "      <td>45+2</td>\n",
       "    </tr>\n",
       "    <tr>\n",
       "      <th>5723</th>\n",
       "      <td>212100</td>\n",
       "      <td>https://sofifa.com/player/212100/max-lowe/20/1...</td>\n",
       "      <td>M. Lowe</td>\n",
       "      <td>Max Lowe</td>\n",
       "      <td>22</td>\n",
       "      <td>1997-05-11</td>\n",
       "      <td>175</td>\n",
       "      <td>74</td>\n",
       "      <td>England</td>\n",
       "      <td>Derby County</td>\n",
       "      <td>...</td>\n",
       "      <td>67+2</td>\n",
       "      <td>66+2</td>\n",
       "      <td>66+2</td>\n",
       "      <td>66+2</td>\n",
       "      <td>67+2</td>\n",
       "      <td>68+2</td>\n",
       "      <td>66+2</td>\n",
       "      <td>66+2</td>\n",
       "      <td>66+2</td>\n",
       "      <td>68+2</td>\n",
       "    </tr>\n",
       "    <tr>\n",
       "      <th>5064</th>\n",
       "      <td>239842</td>\n",
       "      <td>https://sofifa.com/player/239842/georgios-giak...</td>\n",
       "      <td>G. Giakoumakis</td>\n",
       "      <td>Georgios Giakoumakis</td>\n",
       "      <td>24</td>\n",
       "      <td>1994-12-09</td>\n",
       "      <td>186</td>\n",
       "      <td>86</td>\n",
       "      <td>Greece</td>\n",
       "      <td>AEK Athens</td>\n",
       "      <td>...</td>\n",
       "      <td>44+2</td>\n",
       "      <td>42+2</td>\n",
       "      <td>42+2</td>\n",
       "      <td>42+2</td>\n",
       "      <td>44+2</td>\n",
       "      <td>43+2</td>\n",
       "      <td>44+2</td>\n",
       "      <td>44+2</td>\n",
       "      <td>44+2</td>\n",
       "      <td>43+2</td>\n",
       "    </tr>\n",
       "    <tr>\n",
       "      <th>15417</th>\n",
       "      <td>251169</td>\n",
       "      <td>https://sofifa.com/player/251169/oussoumane-ca...</td>\n",
       "      <td>O. Camara</td>\n",
       "      <td>Oussoumane Camara</td>\n",
       "      <td>20</td>\n",
       "      <td>1998-12-19</td>\n",
       "      <td>178</td>\n",
       "      <td>75</td>\n",
       "      <td>France</td>\n",
       "      <td>AJ Auxerre</td>\n",
       "      <td>...</td>\n",
       "      <td>53+2</td>\n",
       "      <td>55+2</td>\n",
       "      <td>55+2</td>\n",
       "      <td>55+2</td>\n",
       "      <td>53+2</td>\n",
       "      <td>53+2</td>\n",
       "      <td>51+2</td>\n",
       "      <td>51+2</td>\n",
       "      <td>51+2</td>\n",
       "      <td>53+2</td>\n",
       "    </tr>\n",
       "    <tr>\n",
       "      <th>17952</th>\n",
       "      <td>246695</td>\n",
       "      <td>https://sofifa.com/player/246695/mattie-polloc...</td>\n",
       "      <td>M. Pollock</td>\n",
       "      <td>Mattie Pollock</td>\n",
       "      <td>17</td>\n",
       "      <td>2001-09-28</td>\n",
       "      <td>190</td>\n",
       "      <td>80</td>\n",
       "      <td>England</td>\n",
       "      <td>Grimsby Town</td>\n",
       "      <td>...</td>\n",
       "      <td>48+2</td>\n",
       "      <td>48+2</td>\n",
       "      <td>48+2</td>\n",
       "      <td>48+2</td>\n",
       "      <td>48+2</td>\n",
       "      <td>49+2</td>\n",
       "      <td>50+2</td>\n",
       "      <td>50+2</td>\n",
       "      <td>50+2</td>\n",
       "      <td>49+2</td>\n",
       "    </tr>\n",
       "  </tbody>\n",
       "</table>\n",
       "<p>5 rows × 104 columns</p>\n",
       "</div>"
      ],
      "text/plain": [
       "       sofifa_id                                         player_url  \\\n",
       "7103      220035  https://sofifa.com/player/220035/abdul-ajagun/...   \n",
       "5723      212100  https://sofifa.com/player/212100/max-lowe/20/1...   \n",
       "5064      239842  https://sofifa.com/player/239842/georgios-giak...   \n",
       "15417     251169  https://sofifa.com/player/251169/oussoumane-ca...   \n",
       "17952     246695  https://sofifa.com/player/246695/mattie-polloc...   \n",
       "\n",
       "           short_name             long_name  age         dob  height_cm  \\\n",
       "7103        A. Ajagun          Abdul Ajagun   26  1993-02-10        168   \n",
       "5723          M. Lowe              Max Lowe   22  1997-05-11        175   \n",
       "5064   G. Giakoumakis  Georgios Giakoumakis   24  1994-12-09        186   \n",
       "15417       O. Camara     Oussoumane Camara   20  1998-12-19        178   \n",
       "17952      M. Pollock        Mattie Pollock   17  2001-09-28        190   \n",
       "\n",
       "       weight_kg nationality          club  ...   lwb   ldm   cdm   rdm   rwb  \\\n",
       "7103          65     Nigeria   KV Kortrijk  ...  49+2  45+2  45+2  45+2  49+2   \n",
       "5723          74     England  Derby County  ...  67+2  66+2  66+2  66+2  67+2   \n",
       "5064          86      Greece    AEK Athens  ...  44+2  42+2  42+2  42+2  44+2   \n",
       "15417         75      France    AJ Auxerre  ...  53+2  55+2  55+2  55+2  53+2   \n",
       "17952         80     England  Grimsby Town  ...  48+2  48+2  48+2  48+2  48+2   \n",
       "\n",
       "         lb   lcb    cb   rcb    rb  \n",
       "7103   45+2  37+2  37+2  37+2  45+2  \n",
       "5723   68+2  66+2  66+2  66+2  68+2  \n",
       "5064   43+2  44+2  44+2  44+2  43+2  \n",
       "15417  53+2  51+2  51+2  51+2  53+2  \n",
       "17952  49+2  50+2  50+2  50+2  49+2  \n",
       "\n",
       "[5 rows x 104 columns]"
      ]
     },
     "execution_count": 6,
     "metadata": {},
     "output_type": "execute_result"
    }
   ],
   "source": [
    "fifa.sample(5)"
   ]
  },
  {
   "cell_type": "code",
   "execution_count": 7,
   "metadata": {},
   "outputs": [
    {
     "data": {
      "text/plain": [
       "Index(['sofifa_id', 'player_url', 'short_name', 'long_name', 'age', 'dob',\n",
       "       'height_cm', 'weight_kg', 'nationality', 'club',\n",
       "       ...\n",
       "       'lwb', 'ldm', 'cdm', 'rdm', 'rwb', 'lb', 'lcb', 'cb', 'rcb', 'rb'],\n",
       "      dtype='object', length=104)"
      ]
     },
     "execution_count": 7,
     "metadata": {},
     "output_type": "execute_result"
    }
   ],
   "source": [
    "fifa.columns"
   ]
  },
  {
   "cell_type": "code",
   "execution_count": 9,
   "metadata": {},
   "outputs": [
    {
     "name": "stdout",
     "output_type": "stream",
     "text": [
      "sofifa_id\n",
      "player_url\n",
      "short_name\n",
      "long_name\n",
      "age\n",
      "dob\n",
      "height_cm\n",
      "weight_kg\n",
      "nationality\n",
      "club\n",
      "overall\n",
      "potential\n",
      "value_eur\n",
      "wage_eur\n",
      "player_positions\n",
      "preferred_foot\n",
      "international_reputation\n",
      "weak_foot\n",
      "skill_moves\n",
      "work_rate\n",
      "body_type\n",
      "real_face\n",
      "release_clause_eur\n",
      "player_tags\n",
      "team_position\n",
      "team_jersey_number\n",
      "loaned_from\n",
      "joined\n",
      "contract_valid_until\n",
      "nation_position\n",
      "nation_jersey_number\n",
      "pace\n",
      "shooting\n",
      "passing\n",
      "dribbling\n",
      "defending\n",
      "physic\n",
      "gk_diving\n",
      "gk_handling\n",
      "gk_kicking\n",
      "gk_reflexes\n",
      "gk_speed\n",
      "gk_positioning\n",
      "player_traits\n",
      "attacking_crossing\n",
      "attacking_finishing\n",
      "attacking_heading_accuracy\n",
      "attacking_short_passing\n",
      "attacking_volleys\n",
      "skill_dribbling\n",
      "skill_curve\n",
      "skill_fk_accuracy\n",
      "skill_long_passing\n",
      "skill_ball_control\n",
      "movement_acceleration\n",
      "movement_sprint_speed\n",
      "movement_agility\n",
      "movement_reactions\n",
      "movement_balance\n",
      "power_shot_power\n",
      "power_jumping\n",
      "power_stamina\n",
      "power_strength\n",
      "power_long_shots\n",
      "mentality_aggression\n",
      "mentality_interceptions\n",
      "mentality_positioning\n",
      "mentality_vision\n",
      "mentality_penalties\n",
      "mentality_composure\n",
      "defending_marking\n",
      "defending_standing_tackle\n",
      "defending_sliding_tackle\n",
      "goalkeeping_diving\n",
      "goalkeeping_handling\n",
      "goalkeeping_kicking\n",
      "goalkeeping_positioning\n",
      "goalkeeping_reflexes\n",
      "ls\n",
      "st\n",
      "rs\n",
      "lw\n",
      "lf\n",
      "cf\n",
      "rf\n",
      "rw\n",
      "lam\n",
      "cam\n",
      "ram\n",
      "lm\n",
      "lcm\n",
      "cm\n",
      "rcm\n",
      "rm\n",
      "lwb\n",
      "ldm\n",
      "cdm\n",
      "rdm\n",
      "rwb\n",
      "lb\n",
      "lcb\n",
      "cb\n",
      "rcb\n",
      "rb\n"
     ]
    }
   ],
   "source": [
    "for i in fifa.columns:\n",
    "    print(i)"
   ]
  },
  {
   "cell_type": "code",
   "execution_count": 10,
   "metadata": {},
   "outputs": [
    {
     "data": {
      "text/plain": [
       "(18278, 104)"
      ]
     },
     "execution_count": 10,
     "metadata": {},
     "output_type": "execute_result"
    }
   ],
   "source": [
    "fifa.shape"
   ]
  },
  {
   "cell_type": "code",
   "execution_count": 23,
   "metadata": {},
   "outputs": [
    {
     "data": {
      "text/plain": [
       "England        1667\n",
       "Germany        1216\n",
       "Spain          1035\n",
       "France          984\n",
       "Argentina       886\n",
       "Brazil          824\n",
       "Italy           732\n",
       "Colombia        591\n",
       "Japan           453\n",
       "Netherlands     416\n",
       "Name: nationality, dtype: int64"
      ]
     },
     "execution_count": 23,
     "metadata": {},
     "output_type": "execute_result"
    }
   ],
   "source": [
    "fifa.nationality.value_counts()[:10]"
   ]
  },
  {
   "cell_type": "code",
   "execution_count": 24,
   "metadata": {},
   "outputs": [
    {
     "data": {
      "text/plain": [
       "Index(['England', 'Germany', 'Spain', 'France', 'Argentina'], dtype='object')"
      ]
     },
     "execution_count": 24,
     "metadata": {},
     "output_type": "execute_result"
    }
   ],
   "source": [
    "fifa.nationality.value_counts().keys()[:5]"
   ]
  },
  {
   "cell_type": "code",
   "execution_count": 32,
   "metadata": {},
   "outputs": [
    {
     "data": {
      "text/plain": [
       "<BarContainer object of 5 artists>"
      ]
     },
     "execution_count": 32,
     "metadata": {},
     "output_type": "execute_result"
    },
    {
     "data": {
      "image/png": "[encoded data removed]",
      "text/plain": [
       "<Figure size 720x576 with 1 Axes>"
      ]
     },
     "metadata": {
      "needs_background": "light"
     },
     "output_type": "display_data"
    }
   ],
   "source": [
    "plt.figure(figsize=(10,8))\n",
    "keys = fifa.nationality.value_counts().keys()[:5]\n",
    "players = fifa.nationality.value_counts()[:5]\n",
    "plt.bar(keys,players,color = \"g\")"
   ]
  },
  {
   "cell_type": "code",
   "execution_count": 38,
   "metadata": {},
   "outputs": [
    {
     "name": "stderr",
     "output_type": "stream",
     "text": [
      "C:\\Users\\mishr\\AppData\\Local\\Temp\\ipykernel_11936\\2314328082.py:2: SettingWithCopyWarning: \n",
      "A value is trying to be set on a copy of a slice from a DataFrame\n",
      "\n",
      "See the caveats in the documentation: https://pandas.pydata.org/pandas-docs/stable/user_guide/indexing.html#returning-a-view-versus-a-copy\n",
      "  player_salary.sort_values('wage_eur',ascending=False , inplace=True)\n"
     ]
    }
   ],
   "source": [
    "player_salary = fifa[['short_name', 'wage_eur']]\n",
    "player_salary.sort_values('wage_eur',ascending=False , inplace=True)"
   ]
  },
  {
   "cell_type": "code",
   "execution_count": 39,
   "metadata": {},
   "outputs": [
    {
     "data": {
      "text/html": [
       "<div>\n",
       "<style scoped>\n",
       "    .dataframe tbody tr th:only-of-type {\n",
       "        vertical-align: middle;\n",
       "    }\n",
       "\n",
       "    .dataframe tbody tr th {\n",
       "        vertical-align: top;\n",
       "    }\n",
       "\n",
       "    .dataframe thead th {\n",
       "        text-align: right;\n",
       "    }\n",
       "</style>\n",
       "<table border=\"1\" class=\"dataframe\">\n",
       "  <thead>\n",
       "    <tr style=\"text-align: right;\">\n",
       "      <th></th>\n",
       "      <th>short_name</th>\n",
       "      <th>wage_eur</th>\n",
       "    </tr>\n",
       "  </thead>\n",
       "  <tbody>\n",
       "    <tr>\n",
       "      <th>0</th>\n",
       "      <td>L. Messi</td>\n",
       "      <td>565000</td>\n",
       "    </tr>\n",
       "    <tr>\n",
       "      <th>4</th>\n",
       "      <td>E. Hazard</td>\n",
       "      <td>470000</td>\n",
       "    </tr>\n",
       "    <tr>\n",
       "      <th>1</th>\n",
       "      <td>Cristiano Ronaldo</td>\n",
       "      <td>405000</td>\n",
       "    </tr>\n",
       "    <tr>\n",
       "      <th>5</th>\n",
       "      <td>K. De Bruyne</td>\n",
       "      <td>370000</td>\n",
       "    </tr>\n",
       "    <tr>\n",
       "      <th>22</th>\n",
       "      <td>A. Griezmann</td>\n",
       "      <td>370000</td>\n",
       "    </tr>\n",
       "  </tbody>\n",
       "</table>\n",
       "</div>"
      ],
      "text/plain": [
       "           short_name  wage_eur\n",
       "0            L. Messi    565000\n",
       "4           E. Hazard    470000\n",
       "1   Cristiano Ronaldo    405000\n",
       "5        K. De Bruyne    370000\n",
       "22       A. Griezmann    370000"
      ]
     },
     "execution_count": 39,
     "metadata": {},
     "output_type": "execute_result"
    }
   ],
   "source": [
    "player_salary.head()"
   ]
  },
  {
   "cell_type": "code",
   "execution_count": 51,
   "metadata": {},
   "outputs": [
    {
     "data": {
      "text/plain": [
       "<BarContainer object of 5 artists>"
      ]
     },
     "execution_count": 51,
     "metadata": {},
     "output_type": "execute_result"
    },
    {
     "data": {
      "image/png": "[encoded data removed]",
      "text/plain": [
       "<Figure size 720x360 with 1 Axes>"
      ]
     },
     "metadata": {
      "needs_background": "light"
     },
     "output_type": "display_data"
    }
   ],
   "source": [
    "plt.figure(figsize=(10,5))\n",
    "plt.bar( player_salary.head().short_name, player_salary.head().wage_eur , color =['b','r','g','y'] )"
   ]
  },
  {
   "cell_type": "code",
   "execution_count": 61,
   "metadata": {},
   "outputs": [
    {
     "data": {
      "text/plain": [
       "8016          A. Seydel\n",
       "1217           M. Esser\n",
       "1389      L. Unnerstall\n",
       "11859    D. Stroh-Engel\n",
       "13576      L. Watkowiak\n",
       "Name: short_name, dtype: object"
      ]
     },
     "execution_count": 61,
     "metadata": {},
     "output_type": "execute_result"
    }
   ],
   "source": [
    "fifa[fifa.nationality=='Germany'].sort_values('height_cm', ascending= False).short_name.head()"
   ]
  },
  {
   "cell_type": "code",
   "execution_count": 82,
   "metadata": {},
   "outputs": [],
   "source": [
    "german_player_salary = fifa[fifa.nationality=='Germany'][['short_name','wage_eur']].head().sort_values('wage_eur' , ascending = False)"
   ]
  },
  {
   "cell_type": "code",
   "execution_count": 83,
   "metadata": {},
   "outputs": [
    {
     "data": {
      "text/plain": [
       "<BarContainer object of 5 artists>"
      ]
     },
     "execution_count": 83,
     "metadata": {},
     "output_type": "execute_result"
    },
    {
     "data": {
      "image/png": "[encoded data removed]",
      "text/plain": [
       "<Figure size 720x360 with 1 Axes>"
      ]
     },
     "metadata": {
      "needs_background": "light"
     },
     "output_type": "display_data"
    }
   ],
   "source": [
    "plt.figure(figsize=(10,5))\n",
    "plt.bar(german_player_salary.head().short_name , german_player_salary.head().wage_eur)"
   ]
  },
  {
   "cell_type": "code",
   "execution_count": 87,
   "metadata": {},
   "outputs": [
    {
     "data": {
      "text/html": [
       "<div>\n",
       "<style scoped>\n",
       "    .dataframe tbody tr th:only-of-type {\n",
       "        vertical-align: middle;\n",
       "    }\n",
       "\n",
       "    .dataframe tbody tr th {\n",
       "        vertical-align: top;\n",
       "    }\n",
       "\n",
       "    .dataframe thead th {\n",
       "        text-align: right;\n",
       "    }\n",
       "</style>\n",
       "<table border=\"1\" class=\"dataframe\">\n",
       "  <thead>\n",
       "    <tr style=\"text-align: right;\">\n",
       "      <th></th>\n",
       "      <th>short_name</th>\n",
       "      <th>shooting</th>\n",
       "    </tr>\n",
       "  </thead>\n",
       "  <tbody>\n",
       "    <tr>\n",
       "      <th>1</th>\n",
       "      <td>Cristiano Ronaldo</td>\n",
       "      <td>93.0</td>\n",
       "    </tr>\n",
       "    <tr>\n",
       "      <th>0</th>\n",
       "      <td>L. Messi</td>\n",
       "      <td>92.0</td>\n",
       "    </tr>\n",
       "    <tr>\n",
       "      <th>12</th>\n",
       "      <td>H. Kane</td>\n",
       "      <td>91.0</td>\n",
       "    </tr>\n",
       "    <tr>\n",
       "      <th>17</th>\n",
       "      <td>S. Agüero</td>\n",
       "      <td>90.0</td>\n",
       "    </tr>\n",
       "    <tr>\n",
       "      <th>205</th>\n",
       "      <td>F. Quagliarella</td>\n",
       "      <td>89.0</td>\n",
       "    </tr>\n",
       "  </tbody>\n",
       "</table>\n",
       "</div>"
      ],
      "text/plain": [
       "            short_name  shooting\n",
       "1    Cristiano Ronaldo      93.0\n",
       "0             L. Messi      92.0\n",
       "12             H. Kane      91.0\n",
       "17           S. Agüero      90.0\n",
       "205    F. Quagliarella      89.0"
      ]
     },
     "execution_count": 87,
     "metadata": {},
     "output_type": "execute_result"
    }
   ],
   "source": [
    "player_shooting = fifa[['short_name' , 'shooting']]\n",
    "player_shooting.sort_values('shooting',ascending=False).head()"
   ]
  },
  {
   "cell_type": "code",
   "execution_count": 90,
   "metadata": {},
   "outputs": [
    {
     "data": {
      "text/html": [
       "<div>\n",
       "<style scoped>\n",
       "    .dataframe tbody tr th:only-of-type {\n",
       "        vertical-align: middle;\n",
       "    }\n",
       "\n",
       "    .dataframe tbody tr th {\n",
       "        vertical-align: top;\n",
       "    }\n",
       "\n",
       "    .dataframe thead th {\n",
       "        text-align: right;\n",
       "    }\n",
       "</style>\n",
       "<table border=\"1\" class=\"dataframe\">\n",
       "  <thead>\n",
       "    <tr style=\"text-align: right;\">\n",
       "      <th></th>\n",
       "      <th>short_name</th>\n",
       "      <th>defending</th>\n",
       "      <th>nationality</th>\n",
       "      <th>club</th>\n",
       "    </tr>\n",
       "  </thead>\n",
       "  <tbody>\n",
       "    <tr>\n",
       "      <th>16</th>\n",
       "      <td>G. Chiellini</td>\n",
       "      <td>90.0</td>\n",
       "      <td>Italy</td>\n",
       "      <td>Juventus</td>\n",
       "    </tr>\n",
       "    <tr>\n",
       "      <th>7</th>\n",
       "      <td>V. van Dijk</td>\n",
       "      <td>90.0</td>\n",
       "      <td>Netherlands</td>\n",
       "      <td>Liverpool</td>\n",
       "    </tr>\n",
       "    <tr>\n",
       "      <th>11</th>\n",
       "      <td>K. Koulibaly</td>\n",
       "      <td>89.0</td>\n",
       "      <td>Senegal</td>\n",
       "      <td>Napoli</td>\n",
       "    </tr>\n",
       "    <tr>\n",
       "      <th>35</th>\n",
       "      <td>D. Godín</td>\n",
       "      <td>89.0</td>\n",
       "      <td>Uruguay</td>\n",
       "      <td>Inter</td>\n",
       "    </tr>\n",
       "    <tr>\n",
       "      <th>49</th>\n",
       "      <td>M. Hummels</td>\n",
       "      <td>89.0</td>\n",
       "      <td>Germany</td>\n",
       "      <td>Borussia Dortmund</td>\n",
       "    </tr>\n",
       "  </tbody>\n",
       "</table>\n",
       "</div>"
      ],
      "text/plain": [
       "      short_name  defending  nationality               club\n",
       "16  G. Chiellini       90.0        Italy           Juventus\n",
       "7    V. van Dijk       90.0  Netherlands          Liverpool\n",
       "11  K. Koulibaly       89.0      Senegal             Napoli\n",
       "35      D. Godín       89.0      Uruguay              Inter\n",
       "49    M. Hummels       89.0      Germany  Borussia Dortmund"
      ]
     },
     "execution_count": 90,
     "metadata": {},
     "output_type": "execute_result"
    }
   ],
   "source": [
    "player_defending = fifa[['short_name','defending','nationality','club']]\n",
    "player_defending.sort_values('defending',ascending=False).head()"
   ]
  },
  {
   "cell_type": "code",
   "execution_count": 95,
   "metadata": {},
   "outputs": [
    {
     "data": {
      "text/plain": [
       "4        E. Hazard\n",
       "8        L. Modrić\n",
       "36        T. Kroos\n",
       "18    Sergio Ramos\n",
       "46      K. Benzema\n",
       "Name: short_name, dtype: object"
      ]
     },
     "execution_count": 95,
     "metadata": {},
     "output_type": "execute_result"
    }
   ],
   "source": [
    "read_madrid = fifa[fifa.club=='Real Madrid']\n",
    "read_madrid.sort_values('wage_eur',ascending=False).head().short_name"
   ]
  },
  {
   "cell_type": "code",
   "execution_count": 97,
   "metadata": {},
   "outputs": [
    {
     "data": {
      "text/plain": [
       "100         G. Bale\n",
       "106    J. Rodríguez\n",
       "4         E. Hazard\n",
       "46       K. Benzema\n",
       "161        L. Jović\n",
       "Name: short_name, dtype: object"
      ]
     },
     "execution_count": 97,
     "metadata": {},
     "output_type": "execute_result"
    }
   ],
   "source": [
    "read_madrid.sort_values('shooting',ascending=False).head().short_name"
   ]
  },
  {
   "cell_type": "code",
   "execution_count": 98,
   "metadata": {},
   "outputs": [
    {
     "data": {
      "text/plain": [
       "18     Sergio Ramos\n",
       "42         Casemiro\n",
       "76        R. Varane\n",
       "94         Carvajal\n",
       "332    Éder Militão\n",
       "Name: short_name, dtype: object"
      ]
     },
     "execution_count": 98,
     "metadata": {},
     "output_type": "execute_result"
    }
   ],
   "source": [
    "read_madrid.sort_values('defending',ascending=False).head().short_name"
   ]
  },
  {
   "cell_type": "code",
   "execution_count": null,
   "metadata": {},
   "outputs": [],
   "source": []
  }
 ],
 "metadata": {
  "interpreter": {
   "hash": "a2dddaebaa47594828bcf6205098b0d4a2e9d91f1ebc589c7b27503fd7f51b0e"
  },
  "kernelspec": {
   "display_name": "Python 3.10.2 64-bit",
   "language": "python",
   "name": "python3"
  },
  "language_info": {
   "codemirror_mode": {
    "name": "ipython",
    "version": 3
   },
   "file_extension": ".py",
   "mimetype": "text/x-python",
   "name": "python",
   "nbconvert_exporter": "python",
   "pygments_lexer": "ipython3",
   "version": "3.10.2"
  },
  "orig_nbformat": 4
 },
 "nbformat": 4,
 "nbformat_minor": 2
}
